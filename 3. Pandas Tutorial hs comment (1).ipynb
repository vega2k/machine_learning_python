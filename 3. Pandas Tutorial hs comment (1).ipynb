{
 "cells": [
  {
   "cell_type": "markdown",
   "metadata": {},
   "source": [
    "# 판다스(Pandas) 튜토리얼\n",
    "\n",
    "[판다스(Pandas)](https://pandas.pydata.org)는 파이썬에서 데이터분석을 위해 사용하는 패키지(Package) 중 하나입니다. 간단히 요약하자면, \"파이썬으로 엑셀과 같은 파일을 다루기에 최적화된 도구\"라고 생각하시면 됩니다.\n",
    "\n",
    "판다스는 파이썬과 달리 일반인의 직관과 상식과 다소 동떨어진 방식으로 동작합니다. 하지만 판다스의 기본적인 룰 몇 가지만 숙지하면, 적은 문법 만으로도 굉장히 다양하고 창의적인 방식으로 엑셀(또는 CSV) 파일을 다룰 수 있습니다.\n",
    "\n",
    "다음의 튜토리얼에 익숙해진 뒤, [10 Minutes to pandas](https://pandas.pydata.org/pandas-docs/stable/10min.html)라는 판다스의 공식 튜토리얼을 읽어보시는 것을 추천 드립니다.\n"
   ]
  },
  {
   "cell_type": "markdown",
   "metadata": {},
   "source": [
    "### 패키지 읽어오기"
   ]
  },
  {
   "cell_type": "markdown",
   "metadata": {},
   "source": [
    "파이썬은 범용적인 목적으로 만들어진 프로그래밍 언어입니다. 하지만 범용적인 프로그래밍 언어라 하더라도,세상의 모든 기능을 전부 구현하는 것은 이론적으로 불가능합니다.\n",
    "\n",
    "그래서 파이썬은 패키지(package)라는 시스템을 만들었습니다. 이제 개발자는 파이썬에 존재하지 않는 기능이 있다면 이를 스스로 구현한 뒤 세상에 공개할 수 있고, 파이썬은 패키지라는 시스템을 통해 이 기능을 파이썬에서 쉽게 사용할 수 있도록 구현해 놓았습니다.\n",
    "\n",
    "다음은 판다스라는 패키지를 파이썬에서 읽어오는 코드입니다."
   ]
  },
  {
   "cell_type": "code",
   "execution_count": 2,
   "metadata": {},
   "outputs": [
    {
     "ename": "ModuleNotFoundError",
     "evalue": "No module named 'pandas'",
     "output_type": "error",
     "traceback": [
      "\u001b[1;31m---------------------------------------------------------------------------\u001b[0m",
      "\u001b[1;31mModuleNotFoundError\u001b[0m                       Traceback (most recent call last)",
      "\u001b[1;32m<ipython-input-2-caaa7fedaa3f>\u001b[0m in \u001b[0;36m<module>\u001b[1;34m()\u001b[0m\n\u001b[0;32m      1\u001b[0m \u001b[1;31m# pandas 라는 패키지를 파이썬으로 읽어(import)옵니다. 그리고 pd라는 축약어로 사용합니다.\u001b[0m\u001b[1;33m\u001b[0m\u001b[1;33m\u001b[0m\u001b[0m\n\u001b[1;32m----> 2\u001b[1;33m \u001b[1;32mimport\u001b[0m \u001b[0mpandas\u001b[0m \u001b[1;32mas\u001b[0m \u001b[0mpd\u001b[0m\u001b[1;33m\u001b[0m\u001b[0m\n\u001b[0m",
      "\u001b[1;31mModuleNotFoundError\u001b[0m: No module named 'pandas'"
     ]
    }
   ],
   "source": [
    "# pandas 라는 패키지를 파이썬으로 읽어(import)옵니다. 그리고 pd라는 축약어로 사용합니다.\n",
    "import pandas as pd"
   ]
  },
  {
   "cell_type": "markdown",
   "metadata": {},
   "source": [
    "### 파일 읽어오기\n",
    "\n",
    "판다스에서는 **read_csv**라는 기능으로 [CSV(comma-separated values)](https://en.wikipedia.org/wiki/Comma-separated_values)파일을 읽어올 수 있습니다. 여기서 파일 경로는 (ex: data/train.csv)는 개인의 설정마다 다른데, 자세한 건 [절대경로와 상대경로](http://88240.tistory.com/122)에 관한 아티클을 참고해주세요."
   ]
  },
  {
   "cell_type": "code",
   "execution_count": null,
   "metadata": {},
   "outputs": [],
   "source": [
    "# train.csv 파일을 읽어옵니다. 여기서 PassengerId라는 컬럼을 인덱스(index)로 지정한 뒤, train 변수에 할당합니다.\n",
    "# 변수에 할당한 결과값을 판다스 전문 용어로 데이터프레임(DataFrame)이라고 부릅니다.\n",
    "train = pd.read_csv(\"data/train.csv\", index_col=\"PassengerId\")\n",
    "\n",
    "# train 변수에 할당된 데이터의 행렬 사이즈를 출력합니다. 출력은 (row, column) 으로 표시됩니다.\n",
    "print(train.shape)\n",
    "\n",
    "# 이후 .head()로 train 데이터프레임의 전체가 아닌 상위 5개를 띄웁니다.\n",
    "train.head()"
   ]
  },
  {
   "cell_type": "markdown",
   "metadata": {},
   "source": [
    "데이터를 읽어왔으면 여기서 인덱스(index)와 컬럼(columns)을 가져올 수 있습니다."
   ]
  },
  {
   "cell_type": "code",
   "execution_count": null,
   "metadata": {},
   "outputs": [],
   "source": [
    "# 인덱스(index)를 가져옵니다. 여기서 index는 PassengerId와 동일합니다.\n",
    "train.index"
   ]
  },
  {
   "cell_type": "code",
   "execution_count": null,
   "metadata": {},
   "outputs": [],
   "source": [
    "# 컬럼(columns)을 가져옵니다.\n",
    "train.columns"
   ]
  },
  {
   "cell_type": "markdown",
   "metadata": {},
   "source": [
    "## 행렬\n",
    "\n",
    "행렬 가져오기의 기본은 다음과 같습니다."
   ]
  },
  {
   "cell_type": "markdown",
   "metadata": {},
   "source": [
    "### 열(column) 가져오기\n",
    "\n",
    "일단 대괄호([])를 엽니다. 이 대괄호에 문자열을 집어넣으면, 문자열에 해당하는 열(column)을 반환합니다."
   ]
  },
  {
   "cell_type": "code",
   "execution_count": null,
   "metadata": {},
   "outputs": [],
   "source": [
    "# Survived라는 이름의 컬럼을 가져옵니다. 길이가 길기 때문에, .head()로 상위 5개만 출력합니다.\n",
    "train[\"Survived\"].head()"
   ]
  },
  {
   "cell_type": "markdown",
   "metadata": {},
   "source": [
    "컬럼 가져오기의 응용. 대괄호를 두 개([[]]) 연 뒤, 컬럼명 여러개를 집어넣습니다."
   ]
  },
  {
   "cell_type": "code",
   "execution_count": null,
   "metadata": {},
   "outputs": [],
   "source": [
    "# Sex, Pclass, Survived 컬럼 세 개를 가져옵니다. 마찬가지로 .head()로 상위 5개만 출력합니다.\n",
    "train[[\"Sex\", \"Pclass\", \"Survived\"]].head()"
   ]
  },
  {
   "cell_type": "markdown",
   "metadata": {},
   "source": [
    "위의 컬럼 여러개 가져오기는 파이썬의 리스트(list)를 응용한 것입니다. 위의 코드와 아래의 코드는 사실상 동일합니다."
   ]
  },
  {
   "cell_type": "code",
   "execution_count": null,
   "metadata": {},
   "outputs": [],
   "source": [
    "# 리스트를 하나 만드는데, 리스트 안에 컬럼 이름 여러개(Sex, Pclass, Survived)를 집어넣습니다.\n",
    "# 이후 판다스 데이터프레임에서 대괄호를 하나 열고([]) 그 안에 리스트를 집어넣습니다.\n",
    "columns = [\"Sex\", \"Pclass\", \"Survived\"]\n",
    "train[columns].head()"
   ]
  },
  {
   "cell_type": "markdown",
   "metadata": {},
   "source": [
    "### 행(row) 가져오기\n",
    "\n",
    "열(column) 가져오기와 비슷하나, 이번에는 .loc(locate의 약자)라는 표현을 사용합니다."
   ]
  },
  {
   "cell_type": "code",
   "execution_count": null,
   "metadata": {},
   "outputs": [],
   "source": [
    "# loc(locate)를 사용하면 이번에는 열(column)이 아니라 행(row)을 가져옵니다.\n",
    "# 다음의 코드는 PassengerId가 1번인 승객 정보를 반환합니다.\n",
    "train.loc[1]"
   ]
  },
  {
   "cell_type": "markdown",
   "metadata": {},
   "source": [
    "파이썬의 슬라이싱과 비슷한 기능도 있습니다."
   ]
  },
  {
   "cell_type": "code",
   "execution_count": null,
   "metadata": {},
   "outputs": [],
   "source": [
    "# 아래 코드는 PassengerId가 1번인 승객부터 7번인 승객까지 반환합니다.\n",
    "# 파이썬의 슬라이싱(ex: odd[0:4])과 다르게, 이번에는 PassengerId가 7번인 승객을 포함하여 출력합니다.\n",
    "train.loc[1:7]"
   ]
  },
  {
   "cell_type": "markdown",
   "metadata": {},
   "source": [
    "행 가져오기의 응용. 이번에는 .loc 후 대괄호를 두 개([[]]) 열고, 1, 3, 7, 13을 넣습니다."
   ]
  },
  {
   "cell_type": "code",
   "execution_count": null,
   "metadata": {},
   "outputs": [],
   "source": [
    "# PassengerId가 1, 3, 7, 13번인 승객을 반환합니다.\n",
    "train.loc[[1, 3, 7, 13]]"
   ]
  },
  {
   "cell_type": "markdown",
   "metadata": {},
   "source": [
    "위의 코드 역시 파이썬의 리스트(list)를 응용한 것입니다. 위의 코드와 아래의 코드는 사실상 동일합니다."
   ]
  },
  {
   "cell_type": "code",
   "execution_count": null,
   "metadata": {},
   "outputs": [],
   "source": [
    "passenger_ids = [1, 3, 7, 13]\n",
    "train.loc[passenger_ids]"
   ]
  },
  {
   "cell_type": "markdown",
   "metadata": {},
   "source": [
    "### 행렬 동시에 가져오기\n",
    "\n",
    "위의 방법을 응용하면 행(row)과 열(column)을 동시에 접근할 수 있습니다. 행렬 가져오기는 판다스의 가장 중요한 기능 중 하나이며, 이 기능을 창의적으로 응용하면 많은 일을 한 두줄의 코드로 쉽게 해결할 수 있기 때문에 반드시 숙지할 것을 권장 드립니다."
   ]
  },
  {
   "cell_type": "code",
   "execution_count": null,
   "metadata": {},
   "outputs": [],
   "source": [
    "# 행렬 가져오기의 기본. .loc 후 콤마(,)를 기준으로\n",
    "# 좌측에는 행(row)을 가져오는 조건, 우측에는 열(column)을 가져오는 조건을 넣습니다.\n",
    "# 아래 코드는 PassengerId가 1번인 승객의 성별(Sex)을 가져옵니다.\n",
    "train.loc[1, \"Sex\"]"
   ]
  },
  {
   "cell_type": "code",
   "execution_count": null,
   "metadata": {},
   "outputs": [],
   "source": [
    "# 여러 열을 가져오기. PassengerId가 1번인 승객의 Pclass, Sex, Survived를 가져옵니다.\n",
    "train.loc[1, [\"Pclass\", \"Sex\", \"Survived\"]]"
   ]
  },
  {
   "cell_type": "code",
   "execution_count": null,
   "metadata": {},
   "outputs": [],
   "source": [
    "# 여러 행을 가져오기. PassengerId가 1, 3, 7, 13번인 승객의 성별(Sex)를 가져옵니다.\n",
    "train.loc[[1, 3, 7, 13], \"Sex\"]"
   ]
  },
  {
   "cell_type": "code",
   "execution_count": null,
   "metadata": {},
   "outputs": [],
   "source": [
    "# 여러 행을 슬라이싱해서 가져오기. PassengerId가 1번 부터 7번 까지의 승객의 성별(Sex)를 가져옵니다.\n",
    "train.loc[1:7, \"Sex\"]"
   ]
  },
  {
   "cell_type": "code",
   "execution_count": null,
   "metadata": {},
   "outputs": [],
   "source": [
    "# 여러 행과 여러 열을 동시에 가져오기\n",
    "# PassengerId가 1, 3, 7, 13번인 승객의 Sex, Pclass, Survived를 가져옵니다.\n",
    "train.loc[[1, 3, 7, 13], [\"Sex\", \"Pclass\", \"Survived\"]]"
   ]
  },
  {
   "cell_type": "markdown",
   "metadata": {},
   "source": [
    "## Boolean Mask "
   ]
  },
  {
   "cell_type": "markdown",
   "metadata": {},
   "source": [
    "위 기능을 이용하여서 찾고자 하는 조건의 데이터를 가져올 수 있습니다. 판다스의 대괄호 []안에 참(True)와  거짓(False)로 이루어진 데이터 프레임과 길이가 같은 리스트를 넣어주면 참(True)에 해당하는 행(row)만을 가져올 수 있습니다."
   ]
  },
  {
   "cell_type": "code",
   "execution_count": null,
   "metadata": {},
   "outputs": [],
   "source": [
    "# 성별(Sex) 이 'male'인 행을 가져옵니다.\n",
    "# train[\"Sex\"] == \"male\"은 male이면 true, 아니면 false 로 이루어진 리스트형태의 값입니다.\n",
    "train[train[\"Sex\"] == \"male\"].head()"
   ]
  },
  {
   "cell_type": "code",
   "execution_count": null,
   "metadata": {},
   "outputs": [],
   "source": [
    "# 요금(Fare) 값이 20 초과인 행을 가져옵니다.\n",
    "train[train[\"Fare\"] > 20].head()"
   ]
  },
  {
   "cell_type": "code",
   "execution_count": null,
   "metadata": {},
   "outputs": [],
   "source": [
    "# isin([\"val\", \"ue\"]) 함수는 값이 포함 되었는지 확인 합니다.\n",
    "# 주의사항 isin함수의 인자는 항상 리스트([\"value\"])형태로 주어져야 합니다.\n",
    "# Embarked 값이 'Q' 또는 'S'인 행을 가져옵니다.\n",
    "train[train[\"Embarked\"].isin([\"Q\", \"S\"])].head()"
   ]
  },
  {
   "cell_type": "code",
   "execution_count": null,
   "metadata": {},
   "outputs": [],
   "source": [
    "# .str은 문자열에 관련된 특수 함수를 사용 할 수 있다.\n",
    "# .str.contains(\"STON\")는 값에 \"STON\"이라는 문자열이 포함된 행(row)을 가져옵니다.\n",
    "# Ticket의 값(문자열) 중에 \"STON\" 문자열이 포함되어 있는 행(row)을 가져옵니다.\n",
    "train[train[\"Ticket\"].str.contains(\"STON\")].head()"
   ]
  },
  {
   "cell_type": "code",
   "execution_count": null,
   "metadata": {},
   "outputs": [],
   "source": [
    "# NaN(Not a Number), null\n",
    "# 나이(Age)이 비여있는 행을 가져옵니다.\n",
    "train[train[\"Age\"].isnull()].head()"
   ]
  },
  {
   "cell_type": "code",
   "execution_count": null,
   "metadata": {},
   "outputs": [],
   "source": [
    "# 나이(Age) 값이 비여있지 않은 행을 가져옵니다.\n",
    "train[train[\"Age\"].notnull()].head()"
   ]
  },
  {
   "cell_type": "code",
   "execution_count": null,
   "metadata": {},
   "outputs": [],
   "source": [
    "# ~은 참(True)은 거짓(False)으로 거짓(False)은 참(True)으로 변경해준다.\n",
    "# 나이(Age) 값이 비여있지 않은 행을 가져옵니다.\n",
    "train[~train[\"Age\"].isnull()].head()"
   ]
  },
  {
   "cell_type": "code",
   "execution_count": null,
   "metadata": {},
   "outputs": [],
   "source": [
    "# or == |\n",
    "# and == &\n",
    "# | 또는 &를 이용 시에는 헷갈릴 가능성이 있으니 조건문에 소괄호를 쳐주면은 도움이 됩니다.\n",
    "\n",
    "# 나이(Age) 값이 비여있거나 요금(Fare) 값이 비여있는 열을 가져옵니다.\n",
    "train[(train[\"Age\"].isnull()) | (train[\"Fare\"].isnull())].head()"
   ]
  },
  {
   "cell_type": "code",
   "execution_count": null,
   "metadata": {},
   "outputs": [],
   "source": [
    "# and == &\n",
    "# 나이(Age) 값이 비여있고 요금(Fare) 값이 비여있는 열을 가져옵니다.\n",
    "train[(train[\"Age\"].isnull()) & (train[\"Fare\"].isnull())]"
   ]
  },
  {
   "cell_type": "markdown",
   "metadata": {},
   "source": [
    "### 기본 연산"
   ]
  },
  {
   "cell_type": "code",
   "execution_count": null,
   "metadata": {},
   "outputs": [],
   "source": [
    "# mean() -> 평균값을 반환합니다.\n",
    "# max() -> 최고값을 반환합니다.\n",
    "# min() -> 최저값을 반환합니다.\n",
    "\n",
    "# 요금(Fare)의 평균값을 반환합니다.\n",
    "print(train[\"Fare\"].mean())\n",
    "\n",
    "# 나이(Age)의 최대값을 반환합니다.\n",
    "print(train[\"Age\"].max())\n",
    "\n",
    "# 나이(Age)의 최소값을 반환합니다.\n",
    "print(train[\"Age\"].min())"
   ]
  },
  {
   "cell_type": "markdown",
   "metadata": {},
   "source": [
    "### 컬럼 추가 & 수정"
   ]
  },
  {
   "cell_type": "markdown",
   "metadata": {},
   "source": [
    "새로운 컬럼을 추가하고 수정할 수 있습니다."
   ]
  },
  {
   "cell_type": "code",
   "execution_count": null,
   "metadata": {},
   "outputs": [],
   "source": [
    "# 파이썬에서 리스트에 값 추가 하는 방법과 같이 새로운 컬럼을 추가할 수 있습니다. (값은 \"Titanic\"으로 모두 같은 값이 설정됩니다.)\n",
    "train[\"DataCategory\"] = \"Titanic\"\n",
    "train.head()"
   ]
  },
  {
   "cell_type": "code",
   "execution_count": null,
   "metadata": {},
   "outputs": [],
   "source": [
    "# 칼럼 추가 및 수정의 핵심은 갯수만 같으면 무조건 추가 및 수정이 됩니다.\n",
    "train[\"Id\"] = range(0, 891)\n",
    "train.head()"
   ]
  },
  {
   "cell_type": "markdown",
   "metadata": {},
   "source": [
    "Id 컬럼에 0 부터 순서대로 값이 설정되어 있습니다."
   ]
  },
  {
   "cell_type": "code",
   "execution_count": null,
   "metadata": {},
   "outputs": [],
   "source": [
    "# 새로운 FamilySize 칼럼에 SibSp 값 + Parch 값 + 1이 추가됩니다.\n",
    "train[\"FamilySize\"] = train[\"SibSp\"] + train[\"Parch\"] + 1\n",
    "train[[\"SibSp\", \"Parch\", \"FamilySize\"]].head()"
   ]
  },
  {
   "cell_type": "code",
   "execution_count": null,
   "metadata": {},
   "outputs": [],
   "source": [
    "# 새로운 Nationality_FR 컬럼에 Embarked 값이 \"C\"면 참(True)이 추가합니다.(아니면 거짓(False)이 추가 됩니다.)\n",
    "# 새로운 Nationality_UK 컬럼에 Embarked 값이 \"S\" 또는 \"Q\"이면 참(True)이 추가합니다.(아니면 거짓(False)이 추가 됩니다.)\n",
    "train[\"Nationality_FR\"] = train[\"Embarked\"] == \"C\"\n",
    "train[\"Nationality_UK\"] = train[\"Embarked\"].isin([\"S\", \"Q\"])\n",
    "\n",
    "train[[\"Embarked\", \"Nationality_FR\", \"Nationality_UK\"]].head()"
   ]
  },
  {
   "cell_type": "code",
   "execution_count": null,
   "metadata": {},
   "outputs": [],
   "source": [
    "# \"Nationality_FR\", \"Nationality_UK\" 칼럼을 따로 만들지 않고 \n",
    "# \"Nationality\"를 이용해서 하나로 컬럼 만들기.\n",
    "\n",
    "# train.loc[train[\"Embarked\"] == \"C\", \"Nationality\"] 은 Nationality 컬럼을 가져오는 문장이지만 Nationality 컬럼이 없으니 에러가 발생합니다.\n",
    "# train.loc[train[\"Embarked\"] == \"C\", \"Nationality\"] = \"France\" 이 문장은\n",
    "# train[\"Embarked\"] == \"C\" 인 열(row)의 Nationality 컬럼에 \"France\" 추가해줍니다.\n",
    "train.loc[train[\"Embarked\"] == \"C\", \"Nationality\"] = \"France\"\n",
    "\n",
    "# train[\"Embarked\"].isin([\"Q\", \"S\"]) 인 열의 Nationality 컬럼 값은 null 입니다. \n",
    "# 그 이유는 값을 설정해주지 않았기 때문입니다.\n",
    "# train.loc[train[\"Embarked\"].isin([\"Q\", \"S\"]), \"Nationality\"] = \"England\" 이 문장은\n",
    "# train[\"Embarked\"].isin([\"Q\", \"S\"]) 인 열(row)의 Nationality 컬럼을 \"England\"로 수정합니다.\n",
    "train.loc[train[\"Embarked\"].isin([\"S\", \"Q\"]), \"Nationality\"] = \"England\"\n",
    "\n",
    "train[[\"Embarked\", \"Nationality\"]].head()"
   ]
  },
  {
   "cell_type": "code",
   "execution_count": null,
   "metadata": {},
   "outputs": [],
   "source": [
    "# 새로운 Fare_Cheap 컬럼에 Fare 값이 30보다 작으면 참(True)이 추가됩니다.\n",
    "# 새로운 Fare_Medium 컬럼에 Fare 값이 30보다 크고 100보다 작으면 참(True)이 추가됩니다.\n",
    "# 새로운 Fare_Expensive 컬럼에 Fare 값이 100보다 크면 참(True)이 추가됩니다.\n",
    "train[\"Fare_Cheap\"] = train[\"Fare\"] < 30\n",
    "train[\"Fare_Medium\"] = (train[\"Fare\"] >= 30) & (train[\"Fare\"] < 100)\n",
    "train[\"Fare_Expensive\"] = train[\"Fare\"] >= 100\n",
    "\n",
    "train[[\"Fare\", \"Fare_Cheap\", \"Fare_Medium\", \"Fare_Expensive\"]].head()"
   ]
  },
  {
   "cell_type": "code",
   "execution_count": null,
   "metadata": {},
   "outputs": [],
   "source": [
    "# Fare 값이 30보다 작은 열에 새로운 컬럼 FareType의 값이 \"Cheap\"으로 추가합니다.\n",
    "# Fare 값이 30보다 크고 100보다 작은 열에 컬럼 FareType의 값이 \"Med\"로 수정됩니다.\n",
    "# Fare 값이 100보다 큰 열에 컬럼 FareType의 값이 \"Expensive\"로 수정됩니다.\n",
    "train.loc[train[\"Fare\"] < 30, \"FareType\"] = \"Cheap\"\n",
    "train.loc[(train[\"Fare\"] >= 30) & (train[\"Fare\"] < 100), \"FareType\"] = \"Med\"\n",
    "train.loc[train[\"Fare\"] >= 100, \"FareType\"] = \"Expensive\"\n",
    "\n",
    "train[[\"Fare\", \"FareType\"]].head()"
   ]
  },
  {
   "cell_type": "code",
   "execution_count": null,
   "metadata": {},
   "outputs": [],
   "source": [
    "# mean_age 변수에 Age의 평균값을 할당합니다.\n",
    "mean_age = train[\"Age\"].mean()\n",
    "\n",
    "# 나이(Age) 값이 null인 row에 mean_age를 할당한다.\n",
    "train.loc[train[\"Age\"].isnull(), \"Age\"] = mean_age\n",
    "\n",
    "train.head()"
   ]
  },
  {
   "cell_type": "code",
   "execution_count": null,
   "metadata": {},
   "outputs": [],
   "source": [
    "# 1개의 컬럼 삭제\n",
    "del train['id']"
   ]
  },
  {
   "cell_type": "code",
   "execution_count": null,
   "metadata": {},
   "outputs": [],
   "source": [
    "#여러개의 컬럼 삭제\n",
    "#inplace=False 가 default 이며 칼럼을 일시적으로만 삭제 하고  결과를 리턴한다. \n",
    "#inplace=True 이면 칼럼을 실제로 삭제하고, 결과를 리턴하지 않는다.\n",
    "train.drop(['data','FamilySize'],axis=1,inplace=True)\n",
    "#axis=1 대신에 columns 속성을 사용해도 됨\n",
    "#train.drop(columns=['data','FamilySize'],inplace=True)\n"
   ]
  }
 ],
 "metadata": {
  "kernelspec": {
   "display_name": "Python 3",
   "language": "python",
   "name": "python3"
  },
  "language_info": {
   "codemirror_mode": {
    "name": "ipython",
    "version": 3
   },
   "file_extension": ".py",
   "mimetype": "text/x-python",
   "name": "python",
   "nbconvert_exporter": "python",
   "pygments_lexer": "ipython3",
   "version": "3.6.1"
  }
 },
 "nbformat": 4,
 "nbformat_minor": 2
}
