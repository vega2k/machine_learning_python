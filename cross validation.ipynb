{
 "cells": [
  {
   "cell_type": "code",
   "execution_count": 2,
   "metadata": {},
   "outputs": [
    {
     "name": "stdout",
     "output_type": "stream",
     "text": [
      "X:\n",
      "[[  0  10]\n",
      " [ 20  30]\n",
      " [ 40  50]\n",
      " [ 60  70]\n",
      " [ 80  90]\n",
      " [100 110]\n",
      " [120 130]\n",
      " [140 150]\n",
      " [160 170]\n",
      " [180 190]\n",
      " [200 210]\n",
      " [220 230]\n",
      " [240 250]\n",
      " [260 270]\n",
      " [280 290]\n",
      " [300 310]\n",
      " [320 330]\n",
      " [340 350]\n",
      " [360 370]\n",
      " [380 390]]\n",
      "y:\n",
      "[ 1.  1.  1.  1.  1.  2.  2.  2.  2.  2.  3.  3.  3.  3.  3.  4.  4.  4.\n",
      "  4.  4.]\n"
     ]
    }
   ],
   "source": [
    "import numpy as np\n",
    "N = 5\n",
    "X = np.arange(8 * N).reshape(-1, 2) * 10\n",
    "y = np.hstack([np.ones(N), np.ones(N) * 2, np.ones(N) * 3, np.ones(N) * 4])\n",
    "print(\"X:\\n\", X, sep=\"\")\n",
    "print(\"y:\\n\", y, sep=\"\")"
   ]
  },
  {
   "cell_type": "code",
   "execution_count": 3,
   "metadata": {},
   "outputs": [
    {
     "name": "stdout",
     "output_type": "stream",
     "text": [
      "test index : [ 1  6  8 10 17 18 19]\n",
      "................................................................................\n",
      "train index: [ 0  2  3  4  5  7  9 11 12 13 14 15 16]\n",
      "================================================================================\n",
      "test index : [ 2  4  5  7  9 13 14]\n",
      "................................................................................\n",
      "train index: [ 0  1  3  6  8 10 11 12 15 16 17 18 19]\n",
      "================================================================================\n",
      "test index : [ 0  3 11 12 15 16]\n",
      "................................................................................\n",
      "train index: [ 1  2  4  5  6  7  8  9 10 13 14 17 18 19]\n",
      "================================================================================\n"
     ]
    }
   ],
   "source": [
    "from sklearn.model_selection import KFold\n",
    "\n",
    "cv = KFold(n_splits=3, shuffle=True, random_state=0)\n",
    "for train_index, test_index in cv.split(X):\n",
    "    print(\"test index :\", test_index)\n",
    "    print(\".\" * 80 )        \n",
    "    print(\"train index:\", train_index)\n",
    "    print(\"=\" * 80 )"
   ]
  },
  {
   "cell_type": "code",
   "execution_count": null,
   "metadata": {},
   "outputs": [],
   "source": []
  }
 ],
 "metadata": {
  "kernelspec": {
   "display_name": "Python 3",
   "language": "python",
   "name": "python3"
  },
  "language_info": {
   "codemirror_mode": {
    "name": "ipython",
    "version": 3
   },
   "file_extension": ".py",
   "mimetype": "text/x-python",
   "name": "python",
   "nbconvert_exporter": "python",
   "pygments_lexer": "ipython3",
   "version": "3.6.1"
  }
 },
 "nbformat": 4,
 "nbformat_minor": 2
}
